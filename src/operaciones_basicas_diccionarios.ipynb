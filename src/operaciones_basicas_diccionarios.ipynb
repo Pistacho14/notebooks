{
 "cells": [
  {
   "cell_type": "markdown",
   "metadata": {},
   "source": [
    "# OPERACIONES BASICAS CON DICCIONARIOS\n",
    "![\"Tabla de operaciones basicas con diccionarios\"](../imagenes/Diccionarios.pngDiccionarios.png)\n"
   ]
  },
  {
   "cell_type": "markdown",
   "metadata": {},
   "source": [
    "Este es un ejemplo básico de un diccionario junto con un par de prints de ejemplo, para compararlo con algo familiar, son como un inventario de Minecraft, se rigen por la estructura clave - valor. Por ejemplo: [clave: valor, clave: valor, clave: valor]"
   ]
  },
  {
   "cell_type": "code",
   "execution_count": 10,
   "metadata": {},
   "outputs": [
    {
     "name": "stdout",
     "output_type": "stream",
     "text": [
      "3\n",
      "{'piedra': 2, 'tierra': 1, 'madera': 3}\n"
     ]
    }
   ],
   "source": [
    "diccionario = {'piedra': 2, 'tierra': 1, 'madera': 3}     #Este es un ejemplo de un diccionario\n",
    "print(diccionario['madera'])                              #Aquí pedimos un print del valor madera\n",
    "print(diccionario)                                        #Aquí pedimos un print del diccionario completo"
   ]
  },
  {
   "cell_type": "code",
   "execution_count": 11,
   "metadata": {},
   "outputs": [
    {
     "name": "stdout",
     "output_type": "stream",
     "text": [
      "3\n",
      "True\n"
     ]
    },
    {
     "data": {
      "text/plain": [
       "['piedra', 'tierra', 'madera']"
      ]
     },
     "execution_count": 11,
     "metadata": {},
     "output_type": "execute_result"
    }
   ],
   "source": [
    "print(len(diccionario))                         #Numero de entradas en un diccionario\n",
    "print('tierra' in diccionario)                  #Preguntamos si el diccionario contiene el elemento tierra\n",
    "list(diccionario.keys())                        #Le pedimos al diccionario que haga una lista con las keys de diccionario"
   ]
  },
  {
   "cell_type": "markdown",
   "metadata": {},
   "source": [
    "Cambios de los valores del diccionario."
   ]
  },
  {
   "cell_type": "code",
   "execution_count": 12,
   "metadata": {},
   "outputs": [
    {
     "name": "stdout",
     "output_type": "stream",
     "text": [
      "{'piedra': 2, 'tierra': 1, 'madera': 3}\n",
      "{'piedra': 2, 'tierra': 1, 'madera': 38}\n",
      "{'piedra': 2, 'madera': 38}\n",
      "{'piedra': 2, 'madera': 'palos'}\n"
     ]
    }
   ],
   "source": [
    "diccionario = {'piedra': 2, 'tierra': 1, 'madera': 3}\n",
    "print(diccionario) \n",
    "\n",
    "diccionario['madera'] = 38       #Cambiamos el valor del elemento 'madera' de 3 a 38\n",
    "print(diccionario)\n",
    "\n",
    "del diccionario['tierra']        #Eliminamos un elemento del diccionario\n",
    "print(diccionario)\n",
    "\n",
    "diccionario['madera'] = 'palos'  #Añade un nuevo valor 'palos a la clave 'madera'\n",
    "print(diccionario)"
   ]
  },
  {
   "cell_type": "markdown",
   "metadata": {},
   "source": [
    "Mas métodos con diccionarios"
   ]
  },
  {
   "cell_type": "markdown",
   "metadata": {},
   "source": [
    "Con los métodos **values** e **items** podemos comprobar el contenido de el diccionario. El primero solo retornará el valor de cada hash mientras que el segundo nos da toda la informacióon."
   ]
  },
  {
   "cell_type": "code",
   "execution_count": 13,
   "metadata": {},
   "outputs": [
    {
     "name": "stdout",
     "output_type": "stream",
     "text": [
      "[2, 1, 3]\n",
      "[('piedra', 2), ('tierra', 1), ('madera', 3)]\n"
     ]
    }
   ],
   "source": [
    "diccionario = {'piedra': 2, 'tierra': 1, 'madera': 3}\n",
    "print(list(diccionario.values()))\n",
    "\n",
    "print(list(diccionario.items()))\n"
   ]
  },
  {
   "cell_type": "markdown",
   "metadata": {},
   "source": [
    "El método **get** nos permite saber el valor de un hash del diccionario. Como a veces es dificil predecir que habrá dentro de un diccionario podemos usar **get** para rellenar el valor de un hash que puede estar faltando."
   ]
  },
  {
   "cell_type": "code",
   "execution_count": 14,
   "metadata": {},
   "outputs": [
    {
     "name": "stdout",
     "output_type": "stream",
     "text": [
      "3\n",
      "None\n",
      "64\n"
     ]
    }
   ],
   "source": [
    "print(diccionario.get('madera'))                        #Preguntamos el valor de una clave\n",
    "print(diccionario.get('obsidiana'))                     #Preguntamos el valor de una clave que no está, al no existir retorna none\n",
    "print(diccionario.get('grava', 64))"
   ]
  },
  {
   "cell_type": "markdown",
   "metadata": {},
   "source": [
    "El método **Update** nos permite \"fusionar\" dos diccionarios."
   ]
  },
  {
   "cell_type": "code",
   "execution_count": 15,
   "metadata": {},
   "outputs": [
    {
     "data": {
      "text/plain": [
       "{'piedra': 2,\n",
       " 'tierra': 1,\n",
       " 'madera': 3,\n",
       " 'grava': 64,\n",
       " 'ladrillos': 32,\n",
       " 'podzol': 22}"
      ]
     },
     "execution_count": 15,
     "metadata": {},
     "output_type": "execute_result"
    }
   ],
   "source": [
    "bundle = {'grava' : 64, 'ladrillos' : 32, 'podzol' : 22}\n",
    "diccionario.update(bundle)\n",
    "diccionario"
   ]
  },
  {
   "cell_type": "markdown",
   "metadata": {},
   "source": [
    "El método **pop** permite eliminar un hash de un diccionario, pero debe de ser eliminado por su nombre y no por su posición (los hashes de un diccionario no tienen posicion definida). Este método retornará el valor que tenia el hash eliminado."
   ]
  },
  {
   "cell_type": "code",
   "execution_count": 16,
   "metadata": {},
   "outputs": [
    {
     "name": "stdout",
     "output_type": "stream",
     "text": [
      "64\n",
      "32\n",
      "22\n",
      "{'piedra': 2, 'tierra': 1, 'madera': 3}\n"
     ]
    }
   ],
   "source": [
    "print(diccionario.pop('grava'))\n",
    "print(diccionario.pop('ladrillos'))\n",
    "print(diccionario.pop('podzol'))\n",
    "print(diccionario)"
   ]
  },
  {
   "cell_type": "markdown",
   "metadata": {},
   "source": [
    "## Ejemplo de uso de diccionarios\n",
    "\n",
    "En este caso estamos usando los diccionarios como una pequeña base de datos de películas de los Monty Python."
   ]
  },
  {
   "cell_type": "code",
   "execution_count": 19,
   "metadata": {},
   "outputs": [
    {
     "name": "stdout",
     "output_type": "stream",
     "text": [
      "1975\tEl Santo Grial\n",
      "1979\tLa vida de Brian\n",
      "1983\tEl sentido de la vida\n"
     ]
    }
   ],
   "source": [
    "tabla = {'1975' : 'El Santo Grial', '1979' : 'La vida de Brian', '1983' : 'El sentido de la vida'}\n",
    "año = '1983'\n",
    "pelicula = tabla[año]\n",
    "pelicula\n",
    "\n",
    "for año in tabla:\n",
    "    print(año + '\\t' + tabla[año])"
   ]
  },
  {
   "cell_type": "markdown",
   "metadata": {},
   "source": [
    "## Notas importantes sobre diccionarios\n",
    "\n",
    "**· Los operadores secuenciales no funcionan:** Los diccionarios no siguen un orden, por lo tanto es imposible hacer cosas como concatenaciones o sacar secuencias concretas. Si tratas de hacerlo saldrá un error.\n",
    "\n",
    "**·Asignar a nuevos indices crea valores nuevos**\n",
    "\n",
    "**·Las claves no tienen por que ser *strings*** A lo largo de este cuaderno hemos usado *strings* para ejemplificar las claves, pero esto no es siempre así, basta que sea cualquier objeto inmutable."
   ]
  }
 ],
 "metadata": {
  "kernelspec": {
   "display_name": "Python 3",
   "language": "python",
   "name": "python3"
  },
  "language_info": {
   "codemirror_mode": {
    "name": "ipython",
    "version": 3
   },
   "file_extension": ".py",
   "mimetype": "text/x-python",
   "name": "python",
   "nbconvert_exporter": "python",
   "pygments_lexer": "ipython3",
   "version": "3.12.3"
  }
 },
 "nbformat": 4,
 "nbformat_minor": 2
}
